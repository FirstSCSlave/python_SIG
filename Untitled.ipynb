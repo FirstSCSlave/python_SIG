{
 "cells": [
  {
   "cell_type": "markdown",
   "metadata": {},
   "source": [
    "Python SIG 5주차 Function(Continued) & OOP\n",
    "===\n",
    "---\n",
    "\n",
    "OOP란?\n",
    "===\n",
    "Object Oriented Programming의 약자로\n",
    "지금까지 배워온 절차지향적 프로그래밍과 달리\n",
    "**객체**라는 개념을 이용한 프로그래밍\n",
    "\n",
    "---\n",
    "\n",
    "객체에 관한 예시\n",
    "==="
   ]
  },
  {
   "cell_type": "code",
   "execution_count": null,
   "metadata": {
    "collapsed": true
   },
   "outputs": [],
   "source": []
  }
 ],
 "metadata": {
  "kernelspec": {
   "display_name": "Python 3",
   "language": "python",
   "name": "python3"
  },
  "language_info": {
   "codemirror_mode": {
    "name": "ipython",
    "version": 3
   },
   "file_extension": ".py",
   "mimetype": "text/x-python",
   "name": "python",
   "nbconvert_exporter": "python",
   "pygments_lexer": "ipython3",
   "version": "3.6.1"
  }
 },
 "nbformat": 4,
 "nbformat_minor": 2
}
